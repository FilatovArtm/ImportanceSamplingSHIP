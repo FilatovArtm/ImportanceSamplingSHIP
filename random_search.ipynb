{
 "cells": [
  {
   "cell_type": "code",
   "execution_count": 2,
   "metadata": {},
   "outputs": [],
   "source": [
    "import numpy as np\n",
    "from loss import *\n",
    "from utils import *\n",
    "import skopt\n",
    "from matplotlib import pyplot as plt\n",
    "from skopt import gp_minimize\n",
    "import pandas as pd"
   ]
  },
  {
   "cell_type": "markdown",
   "metadata": {},
   "source": [
    "### Random Search"
   ]
  },
  {
   "cell_type": "code",
   "execution_count": 11,
   "metadata": {},
   "outputs": [],
   "source": [
    "# comparison with/without EI\n",
    "n = 500\n",
    "tries = 100\n",
    "\n",
    "different_paths = np.zeros((tries, n, 2))\n",
    "different_values = np.zeros((tries, n))\n",
    "\n",
    "objective = LossPois(seed=1)\n",
    "for j in range(tries):\n",
    "    np.random.seed(j)\n",
    "    for i in range(n):\n",
    "        x = np.random.uniform(-20, 20, size=2)\n",
    "        different_values[j][i] = objective(x)\n",
    "        different_paths[j][i] = x"
   ]
  },
  {
   "cell_type": "code",
   "execution_count": 3,
   "metadata": {},
   "outputs": [
    {
     "data": {
      "image/png": "[encoded data removed]",
      "text/plain": [
       "<matplotlib.figure.Figure at 0x114134198>"
      ]
     },
     "metadata": {},
     "output_type": "display_data"
    }
   ],
   "source": [
    "cum_minimas = pd.DataFrame(different_values).cummin(axis=1).values\n",
    "plt.plot(np.mean(cum_minimas, axis=0)[50:], c='r')\n",
    "\n",
    "plt.show()"
   ]
  },
  {
   "cell_type": "code",
   "execution_count": 3,
   "metadata": {},
   "outputs": [],
   "source": [
    "# comparison with/without EI\n",
    "n = 500\n",
    "tries = 100\n",
    "\n",
    "different_paths = np.zeros((tries, n, 2))\n",
    "different_values = np.zeros((tries, n))\n",
    "\n",
    "objective = LossAngry(seed=1)\n",
    "for j in range(tries):\n",
    "    np.random.seed(j)\n",
    "    for i in range(n):\n",
    "        x = np.random.uniform(-20, 20, size=2)\n",
    "        different_values[j][i] = objective(x)\n",
    "        different_paths[j][i] = x"
   ]
  },
  {
   "cell_type": "code",
   "execution_count": 4,
   "metadata": {},
   "outputs": [
    {
     "data": {
      "image/png": "[encoded data removed]",
      "text/plain": [
       "<matplotlib.figure.Figure at 0x11407be48>"
      ]
     },
     "metadata": {},
     "output_type": "display_data"
    }
   ],
   "source": [
    "cum_minimas = pd.DataFrame(different_values).cummin(axis=1).values\n",
    "plt.plot(np.mean(cum_minimas, axis=0)[50:], c='r')\n",
    "\n",
    "plt.show()"
   ]
  },
  {
   "cell_type": "code",
   "execution_count": 5,
   "metadata": {},
   "outputs": [
    {
     "data": {
      "text/plain": [
       "846.99328196913905"
      ]
     },
     "execution_count": 5,
     "metadata": {},
     "output_type": "execute_result"
    }
   ],
   "source": [
    "np.mean(cum_minimas, axis=0)[499]"
   ]
  },
  {
   "cell_type": "code",
   "execution_count": null,
   "metadata": {},
   "outputs": [],
   "source": []
  }
 ],
 "metadata": {
  "kernelspec": {
   "display_name": "Python 3",
   "language": "python",
   "name": "python3"
  },
  "language_info": {
   "codemirror_mode": {
    "name": "ipython",
    "version": 3
   },
   "file_extension": ".py",
   "mimetype": "text/x-python",
   "name": "python",
   "nbconvert_exporter": "python",
   "pygments_lexer": "ipython3",
   "version": "3.6.3"
  }
 },
 "nbformat": 4,
 "nbformat_minor": 2
}
